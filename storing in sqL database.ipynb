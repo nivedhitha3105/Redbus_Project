{
 "cells": [
  {
   "cell_type": "code",
   "execution_count": 1,
   "id": "a81e5840",
   "metadata": {},
   "outputs": [],
   "source": [
    "import mysql.connector\n",
    "import pandas as pd"
   ]
  },
  {
   "cell_type": "code",
   "execution_count": 2,
   "id": "be99f97c",
   "metadata": {},
   "outputs": [
    {
     "data": {
      "text/html": [
       "<div>\n",
       "<style scoped>\n",
       "    .dataframe tbody tr th:only-of-type {\n",
       "        vertical-align: middle;\n",
       "    }\n",
       "\n",
       "    .dataframe tbody tr th {\n",
       "        vertical-align: top;\n",
       "    }\n",
       "\n",
       "    .dataframe thead th {\n",
       "        text-align: right;\n",
       "    }\n",
       "</style>\n",
       "<table border=\"1\" class=\"dataframe\">\n",
       "  <thead>\n",
       "    <tr style=\"text-align: right;\">\n",
       "      <th></th>\n",
       "      <th>Bus_name</th>\n",
       "      <th>Bus_type</th>\n",
       "      <th>Start_time</th>\n",
       "      <th>End_time</th>\n",
       "      <th>Duration</th>\n",
       "      <th>Price</th>\n",
       "      <th>Seats_Available</th>\n",
       "      <th>Route_name</th>\n",
       "      <th>Route_link</th>\n",
       "    </tr>\n",
       "  </thead>\n",
       "  <tbody>\n",
       "    <tr>\n",
       "      <th>0</th>\n",
       "      <td>Navayuga Travels</td>\n",
       "      <td>A/C Sleeper (2+1)</td>\n",
       "      <td>01:40</td>\n",
       "      <td>05:00</td>\n",
       "      <td>03h 20m</td>\n",
       "      <td>560.0</td>\n",
       "      <td>11 Seats available</td>\n",
       "      <td>Kakinada to Visakhapatnam</td>\n",
       "      <td>https://www.redbus.in/bus-tickets/kakinada-to-...</td>\n",
       "    </tr>\n",
       "    <tr>\n",
       "      <th>1</th>\n",
       "      <td>Gaganasri Travels</td>\n",
       "      <td>Non A/C Seater / Sleeper (2+1)</td>\n",
       "      <td>23:50</td>\n",
       "      <td>03:30</td>\n",
       "      <td>03h 40m</td>\n",
       "      <td>5000.0</td>\n",
       "      <td>1 Seat available</td>\n",
       "      <td>Kakinada to Visakhapatnam</td>\n",
       "      <td>https://www.redbus.in/bus-tickets/kakinada-to-...</td>\n",
       "    </tr>\n",
       "    <tr>\n",
       "      <th>2</th>\n",
       "      <td>NueGo</td>\n",
       "      <td>Electric A/C Seater (2+2)</td>\n",
       "      <td>05:00</td>\n",
       "      <td>11:25</td>\n",
       "      <td>06h 25m</td>\n",
       "      <td>332.0</td>\n",
       "      <td>14 Seats available</td>\n",
       "      <td>Bangalore to Tirupati</td>\n",
       "      <td>https://www.redbus.in/bus-tickets/bangalore-to...</td>\n",
       "    </tr>\n",
       "    <tr>\n",
       "      <th>3</th>\n",
       "      <td>FRESHBUS</td>\n",
       "      <td>Electric A/C Seater (2+2)</td>\n",
       "      <td>06:00</td>\n",
       "      <td>12:20</td>\n",
       "      <td>06h 20m</td>\n",
       "      <td>450.0</td>\n",
       "      <td>26 Seats available</td>\n",
       "      <td>Bangalore to Tirupati</td>\n",
       "      <td>https://www.redbus.in/bus-tickets/bangalore-to...</td>\n",
       "    </tr>\n",
       "    <tr>\n",
       "      <th>4</th>\n",
       "      <td>NueGo</td>\n",
       "      <td>Electric A/C Seater (2+2)</td>\n",
       "      <td>06:00</td>\n",
       "      <td>11:45</td>\n",
       "      <td>05h 45m</td>\n",
       "      <td>332.0</td>\n",
       "      <td>28 Seats available</td>\n",
       "      <td>Bangalore to Tirupati</td>\n",
       "      <td>https://www.redbus.in/bus-tickets/bangalore-to...</td>\n",
       "    </tr>\n",
       "  </tbody>\n",
       "</table>\n",
       "</div>"
      ],
      "text/plain": [
       "            Bus_name                        Bus_type Start_time End_time  \\\n",
       "0   Navayuga Travels               A/C Sleeper (2+1)      01:40    05:00   \n",
       "1  Gaganasri Travels  Non A/C Seater / Sleeper (2+1)      23:50    03:30   \n",
       "2              NueGo       Electric A/C Seater (2+2)      05:00    11:25   \n",
       "3           FRESHBUS       Electric A/C Seater (2+2)      06:00    12:20   \n",
       "4              NueGo       Electric A/C Seater (2+2)      06:00    11:45   \n",
       "\n",
       "  Duration   Price     Seats_Available                 Route_name  \\\n",
       "0  03h 20m   560.0  11 Seats available  Kakinada to Visakhapatnam   \n",
       "1  03h 40m  5000.0    1 Seat available  Kakinada to Visakhapatnam   \n",
       "2  06h 25m   332.0  14 Seats available      Bangalore to Tirupati   \n",
       "3  06h 20m   450.0  26 Seats available      Bangalore to Tirupati   \n",
       "4  05h 45m   332.0  28 Seats available      Bangalore to Tirupati   \n",
       "\n",
       "                                          Route_link  \n",
       "0  https://www.redbus.in/bus-tickets/kakinada-to-...  \n",
       "1  https://www.redbus.in/bus-tickets/kakinada-to-...  \n",
       "2  https://www.redbus.in/bus-tickets/bangalore-to...  \n",
       "3  https://www.redbus.in/bus-tickets/bangalore-to...  \n",
       "4  https://www.redbus.in/bus-tickets/bangalore-to...  "
      ]
     },
     "execution_count": 2,
     "metadata": {},
     "output_type": "execute_result"
    }
   ],
   "source": [
    "data = pd.read_csv('redbus_data.csv')\n",
    "data.head()"
   ]
  },
  {
   "cell_type": "code",
   "execution_count": 3,
   "id": "840b96ff",
   "metadata": {},
   "outputs": [],
   "source": [
    "all_dfs = pd.DataFrame(data)"
   ]
  },
  {
   "cell_type": "code",
   "execution_count": 4,
   "id": "eceb19e1",
   "metadata": {},
   "outputs": [],
   "source": [
    "all_dfs = all_dfs.dropna()\n",
    "data = all_dfs.values.tolist()\n"
   ]
  },
  {
   "cell_type": "code",
   "execution_count": 5,
   "id": "c4337d34",
   "metadata": {},
   "outputs": [],
   "source": [
    "conn=mysql.connector.connect(host=\"localhost\", user=\"root\", password=\"jaini2002\",database=\"RED_BUS_DETAILS\")\n",
    "my_cursor = conn.cursor()\n",
    "my_cursor.execute(\"CREATE DATABASE IF NOT EXISTS RED_BUS_DETAILS\")"
   ]
  },
  {
   "cell_type": "code",
   "execution_count": 6,
   "id": "85c7b98c",
   "metadata": {},
   "outputs": [
    {
     "name": "stdout",
     "output_type": "stream",
     "text": [
      "Table Created successfully\n"
     ]
    }
   ],
   "source": [
    "# Table Creation\n",
    "my_cursor.execute('''CREATE TABLE IF NOT EXISTS bus_details(\n",
    "                  ID INT AUTO_INCREMENT PRIMARY KEY,\n",
    "                  Bus_name VARCHAR(255) NOT NULL,\n",
    "                  Bus_type VARCHAR(255) NOT NULL,\n",
    "                  Start_time VARCHAR(255) NOT NULL,\n",
    "                  End_time VARCHAR(255) NOT NULL,\n",
    "                  Total_duration VARCHAR(255) NOT NULL,\n",
    "                  Price FLOAT NULL,\n",
    "                  Seats_Available VARCHAR(255) NOT NULL,\n",
    "                  Route_link VARCHAR(255) NULL,\n",
    "                  Route_name VARCHAR(255) NULL\n",
    "                  )''')\n",
    "print(\"Table Created successfully\")"
   ]
  },
  {
   "cell_type": "code",
   "execution_count": 7,
   "id": "7f6e9713",
   "metadata": {},
   "outputs": [
    {
     "name": "stdout",
     "output_type": "stream",
     "text": [
      "Values inserted successfully\n"
     ]
    }
   ],
   "source": [
    "insert_query = '''INSERT INTO bus_details(\n",
    "                    Bus_name,\n",
    "                    Bus_type,\n",
    "                    Start_time,\n",
    "                    End_time,\n",
    "                    Total_duration,\n",
    "                    Price,\n",
    "                    Seats_Available,\n",
    "                    Route_link,\n",
    "                    Route_name)\n",
    "                  VALUES(%s, %s, %s, %s, %s, %s, %s, %s, %s)'''\n",
    "data = all_dfs.values.tolist()\n",
    "\n",
    "my_cursor.executemany(insert_query, data)\n",
    "\n",
    "conn.commit()\n",
    "\n",
    "print(\"Values inserted successfully\")\n"
   ]
  },
  {
   "cell_type": "code",
   "execution_count": null,
   "id": "603f4884",
   "metadata": {},
   "outputs": [],
   "source": []
  },
  {
   "cell_type": "code",
   "execution_count": null,
   "id": "bdba4c86",
   "metadata": {},
   "outputs": [],
   "source": []
  },
  {
   "cell_type": "code",
   "execution_count": null,
   "id": "35e4d109",
   "metadata": {},
   "outputs": [],
   "source": []
  }
 ],
 "metadata": {
  "kernelspec": {
   "display_name": "Python 3 (ipykernel)",
   "language": "python",
   "name": "python3"
  },
  "language_info": {
   "codemirror_mode": {
    "name": "ipython",
    "version": 3
   },
   "file_extension": ".py",
   "mimetype": "text/x-python",
   "name": "python",
   "nbconvert_exporter": "python",
   "pygments_lexer": "ipython3",
   "version": "3.11.5"
  }
 },
 "nbformat": 4,
 "nbformat_minor": 5
}
